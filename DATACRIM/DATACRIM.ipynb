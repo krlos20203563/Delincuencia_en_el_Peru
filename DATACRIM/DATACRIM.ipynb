{
 "cells": [
  {
   "cell_type": "code",
   "execution_count": 15,
   "id": "8892d358-1cda-484f-a4af-e77d84869939",
   "metadata": {},
   "outputs": [],
   "source": [
    "#We start importing packages\n",
    "from selenium import webdriver\n",
    "from webdriver_manager.chrome import ChromeDriverManager\n",
    "\n",
    "# For scrape\n",
    "from selenium import webdriver\n",
    "from webdriver_manager.chrome import ChromeDriverManager\n",
    "\n",
    "# Options driver\n",
    "from selenium.webdriver.chrome.options import Options\n",
    "\n",
    "# For dataframes\n",
    "import pandas as pd\n",
    "from pandas import json_normalize\n",
    "\n",
    "# For simulate human behavior.\n",
    "import time\n",
    "from time import sleep\n",
    "import random\n",
    "from selenium.webdriver.common.by import By\n",
    "\n",
    "# Clear data\n",
    "import unidecode\n",
    "#unaccented_string = unidecode.unidecode(accented_string)\n",
    "\n",
    "# Manipulate Json files\n",
    "import json\n",
    "import re\n",
    "import numpy as np"
   ]
  },
  {
   "cell_type": "code",
   "execution_count": 16,
   "id": "a1aed147-e9b9-4042-87eb-a7ea3bb9c464",
   "metadata": {},
   "outputs": [],
   "source": [
    "# # Case 1 - Descargaremos el instalador e iremos probando como se va logrando esto\n",
    "\n",
    "from selenium import webdriver\n",
    "from selenium.webdriver.chrome.service import Service as ChromeService\n",
    "from webdriver_manager.chrome import ChromeDriverManager\n",
    "\n",
    "driver = webdriver.Chrome(service=ChromeService(ChromeDriverManager().install()))"
   ]
  },
  {
   "cell_type": "code",
   "execution_count": 17,
   "id": "8d0787b5-9d30-4f4d-abbf-428205ee2d7d",
   "metadata": {},
   "outputs": [],
   "source": [
    "# we open our link page\n",
    "url_sbs = 'https://datacrim.inei.gob.pe/panel/mapa'\n",
    "driver.get( url_sbs)\n",
    "\n",
    "#We maximize the window\n",
    "driver.maximize_window()"
   ]
  },
  {
   "cell_type": "code",
   "execution_count": 5,
   "id": "50c43913-e475-4e3a-acdc-0152d349d269",
   "metadata": {},
   "outputs": [],
   "source": [
    "#pondré el zoom al 100% para evitar problemas\n",
    "driver.execute_script(\"document.body.style.zoom='100%'\")"
   ]
  },
  {
   "cell_type": "code",
   "execution_count": 6,
   "id": "9c4b368a-dfc8-4985-9ad3-a470703887ba",
   "metadata": {},
   "outputs": [],
   "source": [
    "#Lo que intentaré ahora es que clickee en el botón \"delitos\"\n",
    "boton_delitos=driver.find_element( By.XPATH, '/html/body/div[5]/div[1]/div/div[3]/div[1]/ul[1]/li[1]')\n",
    "boton_delitos.click()"
   ]
  },
  {
   "cell_type": "code",
   "execution_count": 9,
   "id": "aa611b16-3b5f-4633-8727-4f15fa7070f1",
   "metadata": {},
   "outputs": [],
   "source": [
    "pnp_boton=driver.find_element(By.XPATH, \"/html/body/div[5]/div[1]/div/div[3]/div[1]/ul[2]/li[1]\")\n",
    "pnp_boton.click()"
   ]
  },
  {
   "cell_type": "code",
   "execution_count": 26,
   "id": "838e761a-7dc5-429c-92b0-8375eca9794e",
   "metadata": {},
   "outputs": [],
   "source": [
    "#Ahora intentaré repetir el proceso de mejor manera. De tal modo que al ejecutar todo el código, me abra automáticamente el apartado referente al cuadro\n",
    "driver=webdriver.Chrome(service=ChromeService(ChromeDriverManager().install()))\n",
    "\n",
    "link_datacrim=\"https://datacrim.inei.gob.pe/panel/mapa\"\n",
    "driver.get(link_datacrim)\n",
    "driver.maximize_window()\n",
    "time.sleep(5)\n",
    "\n",
    "driver.execute_script(\"document.body.style.zoom='100%'\")\n",
    "\n",
    "boton_delitos=driver.find_element( By.XPATH, '/html/body/div[5]/div[1]/div/div[3]/div[1]/ul[1]/li[1]')\n",
    "boton_delitos.click()\n",
    "time.sleep(3)\n",
    " \n",
    "driver.find_element( By.XPATH, '/html/body/div[5]/div[1]/div/div[3]/div[1]/ul[2]/li[1]').click()\n",
    "time.sleep(3)\n",
    "\n",
    "driver.find_element( By.XPATH, '/html/body/div[5]/div[1]/div/div[3]/div[1]/ul[3]/li[1]').click()\n",
    "time.sleep(3)\n",
    "\n",
    "driver.find_element( By.XPATH, '/html/body/div[5]/div[1]/div/div[3]/div[1]/ul[4]/li[4]/div[1]').click()\n",
    "time.sleep(3)\n",
    "\n",
    "driver.find_element(By.XPATH, \"/html/body/div[5]/div[1]/div/div[3]/div[1]/ul[4]/li[7]/div[1]\").click()\n",
    "time.sleep(10)\n",
    "\n",
    "driver.find_element(By.XPATH, \"/html/body/div[5]/div[2]/div[5]/div[1]/div[2]/div/div/div[2]/table/tbody/tr[1]/td[2]/li[1]/span/span\").click()\n",
    "time.sleep(3)\n",
    "\n",
    "driver.find_element(By.XPATH, \"/html/body/div[5]/div[2]/div[5]/div[1]/div[2]/div/div/div[2]/table/tbody/tr[1]/td[2]/div[2]/p[1]/button[2]\").click()\n",
    "time.sleep(3)\n"
   ]
  },
  {
   "cell_type": "code",
   "execution_count": null,
   "id": "befd3406-c26a-439d-8495-dad9be07b89c",
   "metadata": {},
   "outputs": [],
   "source": [
    "#Bien, se cumplió el prototipo de interacción. Ahora se procederá a realizar un proceso ordenado de creación de los botones de trabajo"
   ]
  }
 ],
 "metadata": {
  "kernelspec": {
   "display_name": "Python 3 (ipykernel)",
   "language": "python",
   "name": "python3"
  },
  "language_info": {
   "codemirror_mode": {
    "name": "ipython",
    "version": 3
   },
   "file_extension": ".py",
   "mimetype": "text/x-python",
   "name": "python",
   "nbconvert_exporter": "python",
   "pygments_lexer": "ipython3",
   "version": "3.11.7"
  }
 },
 "nbformat": 4,
 "nbformat_minor": 5
}
